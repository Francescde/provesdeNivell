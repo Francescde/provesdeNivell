{
  "nbformat": 4,
  "nbformat_minor": 0,
  "metadata": {
    "colab": {
      "name": "Monte Carlo.ipynb",
      "provenance": [],
      "collapsed_sections": [],
      "machine_shape": "hm"
    },
    "kernelspec": {
      "name": "python3",
      "display_name": "Python 3"
    }
  },
  "cells": [
    {
      "cell_type": "code",
      "metadata": {
        "id": "9zi2JEWUokq0",
        "colab_type": "code",
        "colab": {}
      },
      "source": [
        "import numpy as np\n",
        "import math\n",
        "dim=3\n",
        "iterations=30000000\n",
        "\n",
        "\n",
        "\n",
        "\n",
        "def Volume(fig1,fig2,radio):\n",
        "    def colision(x,y,z):\n",
        "      return fig1.pointColides(x,y,z) and fig2.pointColides(x,y,z)\n",
        "  \n",
        "    count_in_sphere = 0\n",
        "    dec=10000\n",
        "    x= np.random.randint(-radio*dec,radio*dec,iterations)\n",
        "    x=x/dec\n",
        "    y= np.random.randint(-radio*dec,radio*dec,iterations)\n",
        "    y=y/dec\n",
        "    z= np.random.randint(-radio*dec,radio*dec,iterations)\n",
        "    z=z/dec\n",
        "    vfunc = np.vectorize(colision)\n",
        "    colides = np.where(vfunc(x,y,z))\n",
        "    count_in_sphere=len(colides[0])\n",
        "    return np.power(radio*2, dim)* (count_in_sphere / iterations)\n",
        "  \n",
        "  \n",
        "\n",
        "class Cube:\n",
        "  def __init__(self, center, x, y, z):\n",
        "    self.center = center\n",
        "    self.x = x\n",
        "    self.y = y\n",
        "    self.z = z\n",
        "  \n",
        "  def pointColides(self,x,y,z):\n",
        "    return (abs(self.x - x) <= self.center/2 and\n",
        "            abs(self.y - y) <= self.center/2 and\n",
        "            abs(self.z - z) <= self.center/2)\n",
        "  \n",
        "  \n",
        "\n"
      ],
      "execution_count": 0,
      "outputs": []
    },
    {
      "cell_type": "code",
      "metadata": {
        "id": "ZYuNOphInhGw",
        "colab_type": "code",
        "colab": {
          "base_uri": "https://localhost:8080/",
          "height": 221
        },
        "outputId": "ed9d968b-5198-4998-8890-fcfda01d5fb1"
      },
      "source": [
        "\n",
        "\n",
        "r=4\n",
        "print(\"aprox\")\n",
        "print(Volume(Cube(7,0,0,0),Cube(1,3.5,3.5,0),r))\n",
        "print(\"result\")\n",
        "print(1/4)\n",
        "r=2\n",
        "print(\"aprox\")\n",
        "print(Volume(Cube(1,0.5,0.5,0.5),Cube(1,0,0,0),r))\n",
        "print(\"result\")\n",
        "print(1/8)\n",
        "r=11\n",
        "print(\"aprox\")\n",
        "print(Volume(Cube(4,7,7,0),Cube(2,6,6,0),r))\n",
        "print(\"result\")\n",
        "print(8)"
      ],
      "execution_count": 3,
      "outputs": [
        {
          "output_type": "stream",
          "text": [
            "aprox\n",
            "0.24792746666666668\n",
            "result\n",
            "0.25\n",
            "aprox\n",
            "0.12553813333333333\n",
            "result\n",
            "0.125\n",
            "aprox\n",
            "8.0136848\n",
            "result\n",
            "8\n"
          ],
          "name": "stdout"
        }
      ]
    },
    {
      "cell_type": "code",
      "metadata": {
        "id": "Iozbn7lJnhYx",
        "colab_type": "code",
        "colab": {
          "base_uri": "https://localhost:8080/",
          "height": 68
        },
        "outputId": "89c67013-0238-48fb-a705-1b105e24d039"
      },
      "source": [
        "\n",
        "class Sphere:\n",
        "  def __init__(self, radius):\n",
        "    self.radius = radius\n",
        "  \n",
        "  def pointColides(self,x,y,z):\n",
        "    return(np.sqrt(x**2 + y**2 + z**2) < self.radius)\n",
        "r=2\n",
        "print(\"aprox\")\n",
        "print(Volume(Cube(1,0.5,0.5,0.5),Sphere(1),r))\n",
        "r=1\n",
        "print(\"aprox\")\n",
        "print(Volume(Cube(1,0.5,0.5,0.5),Sphere(1),r))"
      ],
      "execution_count": 4,
      "outputs": [
        {
          "output_type": "stream",
          "text": [
            "aprox\n",
            "0.5232576\n",
            "aprox\n"
          ],
          "name": "stdout"
        }
      ]
    },
    {
      "cell_type": "code",
      "metadata": {
        "id": "YlCi1BQy4PLY",
        "colab_type": "code",
        "colab": {}
      },
      "source": [
        ""
      ],
      "execution_count": 0,
      "outputs": []
    }
  ]
}